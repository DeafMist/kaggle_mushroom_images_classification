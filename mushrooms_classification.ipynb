{
  "cells": [
    {
      "cell_type": "markdown",
      "id": "14d29cda",
      "metadata": {
        "id": "14d29cda"
      },
      "source": [
        "Разделяем датасет на тренировочную, валидационную и тестовую выборки"
      ]
    },
    {
      "cell_type": "code",
      "source": [
        "from google.colab import drive\n",
        "drive.mount('/content/drive')"
      ],
      "metadata": {
        "colab": {
          "base_uri": "https://localhost:8080/"
        },
        "id": "dZAaMTRhA6Df",
        "outputId": "e44530fe-2fa2-43be-aa15-05e794613290"
      },
      "id": "dZAaMTRhA6Df",
      "execution_count": 1,
      "outputs": [
        {
          "output_type": "stream",
          "name": "stdout",
          "text": [
            "Mounted at /content/drive\n"
          ]
        }
      ]
    },
    {
      "cell_type": "code",
      "execution_count": 2,
      "id": "cf2f7014",
      "metadata": {
        "colab": {
          "base_uri": "https://localhost:8080/"
        },
        "id": "cf2f7014",
        "outputId": "85018614-6613-4ccb-b92b-036523985050"
      },
      "outputs": [
        {
          "output_type": "stream",
          "name": "stdout",
          "text": [
            "Looking in indexes: https://pypi.org/simple, https://us-python.pkg.dev/colab-wheels/public/simple/\n",
            "Collecting split-folders\n",
            "  Downloading split_folders-0.5.1-py3-none-any.whl (8.4 kB)\n",
            "Installing collected packages: split-folders\n",
            "Successfully installed split-folders-0.5.1\n"
          ]
        }
      ],
      "source": [
        "!pip install split-folders\n",
        "import splitfolders"
      ]
    },
    {
      "cell_type": "code",
      "execution_count": 3,
      "id": "dcadcf00",
      "metadata": {
        "id": "dcadcf00"
      },
      "outputs": [],
      "source": [
        "#input_folder = \"/content/drive/MyDrive/mushrooms\"\n",
        "#splitfolders.ratio(input_folder, \"/content/drive/MyDrive/mushrooms_splited\", ratio=(0.70, 0.2, 0.1), seed=13, group_prefix=None)"
      ]
    },
    {
      "cell_type": "markdown",
      "id": "fb99f33a",
      "metadata": {
        "id": "fb99f33a"
      },
      "source": [
        "Импорты"
      ]
    },
    {
      "cell_type": "code",
      "execution_count": 4,
      "id": "58ca2775",
      "metadata": {
        "id": "58ca2775"
      },
      "outputs": [],
      "source": [
        "import pandas as pd\n",
        "import numpy as np\n",
        "\n",
        "from sklearn.metrics import classification_report, confusion_matrix\n",
        "\n",
        "import tensorflow as tf\n",
        "from tensorflow.keras.preprocessing.image import ImageDataGenerator\n",
        "from tensorflow.keras.applications.efficientnet import preprocess_input\n",
        "from keras.models import Sequential\n",
        "from tensorflow.keras.layers import Flatten, Dense, Dropout, BatchNormalization\n",
        "\n",
        "from PIL import ImageFile\n",
        "ImageFile.LOAD_TRUNCATED_IMAGES = True\n",
        "\n",
        "import matplotlib.pyplot as plt\n",
        "import matplotlib.image as mpimg\n",
        "%matplotlib inline"
      ]
    },
    {
      "cell_type": "markdown",
      "id": "ebe5efee",
      "metadata": {
        "id": "ebe5efee"
      },
      "source": [
        "Препроцессинг данных"
      ]
    },
    {
      "cell_type": "code",
      "execution_count": 5,
      "id": "70bc237e",
      "metadata": {
        "id": "70bc237e"
      },
      "outputs": [],
      "source": [
        "IMG_SIZE = 128\n",
        "BATCH_SIZE = 32\n",
        "INPUT_SHAPE = (IMG_SIZE, IMG_SIZE, 3)\n",
        "EPOCHS = 100"
      ]
    },
    {
      "cell_type": "code",
      "execution_count": 6,
      "id": "0d23df5a",
      "metadata": {
        "id": "0d23df5a"
      },
      "outputs": [],
      "source": [
        "train_dir = \"/content/drive/MyDrive/mushrooms_splited/train\" \n",
        "val_dir = \"/content/drive/MyDrive/mushrooms_splited/val\"\n",
        "test_dir = \"/content/drive/MyDrive/mushrooms_splited/test\""
      ]
    },
    {
      "cell_type": "code",
      "execution_count": 7,
      "id": "f6d0f65d",
      "metadata": {
        "colab": {
          "base_uri": "https://localhost:8080/"
        },
        "id": "f6d0f65d",
        "outputId": "a0b15021-2976-4f9b-87a3-407cc45fbf73"
      },
      "outputs": [
        {
          "output_type": "stream",
          "name": "stdout",
          "text": [
            "Found 4757 images belonging to 9 classes.\n",
            "Found 1356 images belonging to 9 classes.\n",
            "Found 687 images belonging to 9 classes.\n"
          ]
        }
      ],
      "source": [
        "datagen = ImageDataGenerator(\n",
        "    preprocessing_function=preprocess_input,\n",
        "    width_shift_range = 0.4,\n",
        "    height_shift_range = 0.4,\n",
        "    rotation_range=30,\n",
        "    zoom_range=0.25,\n",
        "    horizontal_flip=True,\n",
        "    rescale=1./255\n",
        ")\n",
        "\n",
        "train_generator = datagen.flow_from_directory(\n",
        "    directory=train_dir,\n",
        "    target_size=(IMG_SIZE, IMG_SIZE),\n",
        "    class_mode='categorical',\n",
        "    batch_size=BATCH_SIZE,\n",
        "    shuffle=True\n",
        ")\n",
        "\n",
        "val_generator = datagen.flow_from_directory(\n",
        "    directory=val_dir,\n",
        "    target_size=(IMG_SIZE, IMG_SIZE),\n",
        "    class_mode='categorical',\n",
        "    batch_size=BATCH_SIZE,\n",
        "    shuffle=False\n",
        ")\n",
        "\n",
        "test_generator = datagen.flow_from_directory(\n",
        "    directory=test_dir,\n",
        "    target_size=(IMG_SIZE, IMG_SIZE),\n",
        "    class_mode='categorical',\n",
        "    batch_size=BATCH_SIZE,\n",
        "    shuffle=False\n",
        ")"
      ]
    },
    {
      "cell_type": "markdown",
      "id": "b13e045b",
      "metadata": {
        "id": "b13e045b"
      },
      "source": [
        "Построение нейронной сети и обучение модели"
      ]
    },
    {
      "cell_type": "code",
      "execution_count": 8,
      "id": "a7f2e635",
      "metadata": {
        "scrolled": false,
        "colab": {
          "base_uri": "https://localhost:8080/"
        },
        "id": "a7f2e635",
        "outputId": "49b79995-8d5f-4032-f479-d684cc518347"
      },
      "outputs": [
        {
          "output_type": "stream",
          "name": "stdout",
          "text": [
            "Model: \"sequential\"\n",
            "_________________________________________________________________\n",
            " Layer (type)                Output Shape              Param #   \n",
            "=================================================================\n",
            " conv2d (Conv2D)             (None, 128, 128, 32)      1568      \n",
            "                                                                 \n",
            " max_pooling2d (MaxPooling2D  (None, 64, 64, 32)       0         \n",
            " )                                                               \n",
            "                                                                 \n",
            " batch_normalization (BatchN  (None, 64, 64, 32)       128       \n",
            " ormalization)                                                   \n",
            "                                                                 \n",
            " conv2d_1 (Conv2D)           (None, 64, 64, 64)        32832     \n",
            "                                                                 \n",
            " max_pooling2d_1 (MaxPooling  (None, 32, 32, 64)       0         \n",
            " 2D)                                                             \n",
            "                                                                 \n",
            " batch_normalization_1 (Batc  (None, 32, 32, 64)       256       \n",
            " hNormalization)                                                 \n",
            "                                                                 \n",
            " conv2d_2 (Conv2D)           (None, 32, 32, 64)        36928     \n",
            "                                                                 \n",
            " max_pooling2d_2 (MaxPooling  (None, 16, 16, 64)       0         \n",
            " 2D)                                                             \n",
            "                                                                 \n",
            " batch_normalization_2 (Batc  (None, 16, 16, 64)       256       \n",
            " hNormalization)                                                 \n",
            "                                                                 \n",
            " conv2d_3 (Conv2D)           (None, 16, 16, 128)       32896     \n",
            "                                                                 \n",
            " max_pooling2d_3 (MaxPooling  (None, 8, 8, 128)        0         \n",
            " 2D)                                                             \n",
            "                                                                 \n",
            " batch_normalization_3 (Batc  (None, 8, 8, 128)        512       \n",
            " hNormalization)                                                 \n",
            "                                                                 \n",
            " conv2d_4 (Conv2D)           (None, 8, 8, 128)         65664     \n",
            "                                                                 \n",
            " max_pooling2d_4 (MaxPooling  (None, 4, 4, 128)        0         \n",
            " 2D)                                                             \n",
            "                                                                 \n",
            " batch_normalization_4 (Batc  (None, 4, 4, 128)        512       \n",
            " hNormalization)                                                 \n",
            "                                                                 \n",
            "=================================================================\n",
            "Total params: 171,552\n",
            "Trainable params: 170,720\n",
            "Non-trainable params: 832\n",
            "_________________________________________________________________\n"
          ]
        }
      ],
      "source": [
        "model = Sequential()\n",
        "\n",
        "model.add(tf.keras.layers.Conv2D(32, (4, 4), activation='relu', input_shape=INPUT_SHAPE, padding='same'))\n",
        "model.add(tf.keras.layers.MaxPooling2D((2, 2)))\n",
        "model.add(BatchNormalization())\n",
        "          \n",
        "model.add(tf.keras.layers.Conv2D(64, (4, 4), activation='relu', padding='same'))\n",
        "model.add(tf.keras.layers.MaxPooling2D((2, 2)))\n",
        "model.add(BatchNormalization())\n",
        "\n",
        "model.add(tf.keras.layers.Conv2D(64, (3, 3), activation='relu', padding='same'))\n",
        "model.add(tf.keras.layers.MaxPooling2D((2, 2)))\n",
        "model.add(BatchNormalization())\n",
        "        \n",
        "model.add(tf.keras.layers.Conv2D(128, (2, 2), activation='relu', padding='same'))\n",
        "model.add(tf.keras.layers.MaxPooling2D(2, 2))\n",
        "model.add(BatchNormalization())\n",
        "\n",
        "model.add(tf.keras.layers.Conv2D(128, (2, 2), activation='relu', padding='same'))\n",
        "model.add(tf.keras.layers.MaxPooling2D(2, 2))\n",
        "model.add(BatchNormalization())\n",
        "\n",
        "model.summary()"
      ]
    },
    {
      "cell_type": "code",
      "execution_count": 9,
      "id": "9bd186d0",
      "metadata": {
        "colab": {
          "base_uri": "https://localhost:8080/"
        },
        "id": "9bd186d0",
        "outputId": "a6a79fad-9776-4d8e-cf4e-eadbf597a988"
      },
      "outputs": [
        {
          "output_type": "stream",
          "name": "stdout",
          "text": [
            "Model: \"sequential\"\n",
            "_________________________________________________________________\n",
            " Layer (type)                Output Shape              Param #   \n",
            "=================================================================\n",
            " conv2d (Conv2D)             (None, 128, 128, 32)      1568      \n",
            "                                                                 \n",
            " max_pooling2d (MaxPooling2D  (None, 64, 64, 32)       0         \n",
            " )                                                               \n",
            "                                                                 \n",
            " batch_normalization (BatchN  (None, 64, 64, 32)       128       \n",
            " ormalization)                                                   \n",
            "                                                                 \n",
            " conv2d_1 (Conv2D)           (None, 64, 64, 64)        32832     \n",
            "                                                                 \n",
            " max_pooling2d_1 (MaxPooling  (None, 32, 32, 64)       0         \n",
            " 2D)                                                             \n",
            "                                                                 \n",
            " batch_normalization_1 (Batc  (None, 32, 32, 64)       256       \n",
            " hNormalization)                                                 \n",
            "                                                                 \n",
            " conv2d_2 (Conv2D)           (None, 32, 32, 64)        36928     \n",
            "                                                                 \n",
            " max_pooling2d_2 (MaxPooling  (None, 16, 16, 64)       0         \n",
            " 2D)                                                             \n",
            "                                                                 \n",
            " batch_normalization_2 (Batc  (None, 16, 16, 64)       256       \n",
            " hNormalization)                                                 \n",
            "                                                                 \n",
            " conv2d_3 (Conv2D)           (None, 16, 16, 128)       32896     \n",
            "                                                                 \n",
            " max_pooling2d_3 (MaxPooling  (None, 8, 8, 128)        0         \n",
            " 2D)                                                             \n",
            "                                                                 \n",
            " batch_normalization_3 (Batc  (None, 8, 8, 128)        512       \n",
            " hNormalization)                                                 \n",
            "                                                                 \n",
            " conv2d_4 (Conv2D)           (None, 8, 8, 128)         65664     \n",
            "                                                                 \n",
            " max_pooling2d_4 (MaxPooling  (None, 4, 4, 128)        0         \n",
            " 2D)                                                             \n",
            "                                                                 \n",
            " batch_normalization_4 (Batc  (None, 4, 4, 128)        512       \n",
            " hNormalization)                                                 \n",
            "                                                                 \n",
            " flatten (Flatten)           (None, 2048)              0         \n",
            "                                                                 \n",
            " batch_normalization_5 (Batc  (None, 2048)             8192      \n",
            " hNormalization)                                                 \n",
            "                                                                 \n",
            " dense (Dense)               (None, 256)               524544    \n",
            "                                                                 \n",
            " batch_normalization_6 (Batc  (None, 256)              1024      \n",
            " hNormalization)                                                 \n",
            "                                                                 \n",
            " dropout (Dropout)           (None, 256)               0         \n",
            "                                                                 \n",
            " dense_1 (Dense)             (None, 9)                 2313      \n",
            "                                                                 \n",
            "=================================================================\n",
            "Total params: 707,625\n",
            "Trainable params: 702,185\n",
            "Non-trainable params: 5,440\n",
            "_________________________________________________________________\n"
          ]
        }
      ],
      "source": [
        "model.add(Flatten())\n",
        "model.add(BatchNormalization())\n",
        "\n",
        "model.add(Dense(256, activation='relu'))\n",
        "model.add(BatchNormalization())\n",
        "model.add(Dropout(0.4))\n",
        "\n",
        "model.add(Dense(9, activation='softmax'))\n",
        "\n",
        "model.compile(\n",
        "    optimizer='adam',\n",
        "    loss='categorical_crossentropy',\n",
        "    metrics=['accuracy']\n",
        ")\n",
        "\n",
        "model.summary()"
      ]
    },
    {
      "cell_type": "code",
      "execution_count": 10,
      "id": "438c838a",
      "metadata": {
        "scrolled": false,
        "colab": {
          "base_uri": "https://localhost:8080/"
        },
        "id": "438c838a",
        "outputId": "80a5c8f6-992a-4aba-dcd2-9857ad528375"
      },
      "outputs": [
        {
          "output_type": "stream",
          "name": "stdout",
          "text": [
            "Epoch 1/100\n",
            "149/149 [==============================] - 1300s 9s/step - loss: 2.6476 - accuracy: 0.1974 - val_loss: 2.6232 - val_accuracy: 0.1749\n",
            "Epoch 2/100\n",
            "149/149 [==============================] - 318s 2s/step - loss: 2.1925 - accuracy: 0.2550 - val_loss: 2.2864 - val_accuracy: 0.1860\n",
            "Epoch 3/100\n",
            "149/149 [==============================] - 306s 2s/step - loss: 2.0658 - accuracy: 0.2830 - val_loss: 2.0509 - val_accuracy: 0.2768\n",
            "Epoch 4/100\n",
            "149/149 [==============================] - 307s 2s/step - loss: 1.9010 - accuracy: 0.3189 - val_loss: 1.8443 - val_accuracy: 0.3475\n",
            "Epoch 5/100\n",
            "149/149 [==============================] - 304s 2s/step - loss: 1.8214 - accuracy: 0.3485 - val_loss: 1.8470 - val_accuracy: 0.3304\n",
            "Epoch 6/100\n",
            "149/149 [==============================] - 317s 2s/step - loss: 1.7858 - accuracy: 0.3572 - val_loss: 1.9721 - val_accuracy: 0.3095\n",
            "Epoch 7/100\n",
            "149/149 [==============================] - 306s 2s/step - loss: 1.7168 - accuracy: 0.3818 - val_loss: 2.1695 - val_accuracy: 0.2976\n",
            "Epoch 8/100\n",
            "149/149 [==============================] - 304s 2s/step - loss: 1.6711 - accuracy: 0.4034 - val_loss: 1.8188 - val_accuracy: 0.3705\n",
            "Epoch 9/100\n",
            "149/149 [==============================] - 304s 2s/step - loss: 1.6539 - accuracy: 0.4089 - val_loss: 1.9103 - val_accuracy: 0.3393\n",
            "Epoch 10/100\n",
            "149/149 [==============================] - 314s 2s/step - loss: 1.6094 - accuracy: 0.4223 - val_loss: 1.8442 - val_accuracy: 0.3497\n",
            "Epoch 11/100\n",
            "149/149 [==============================] - 304s 2s/step - loss: 1.5778 - accuracy: 0.4328 - val_loss: 1.6080 - val_accuracy: 0.4479\n",
            "Epoch 12/100\n",
            "149/149 [==============================] - 329s 2s/step - loss: 1.5660 - accuracy: 0.4509 - val_loss: 2.2066 - val_accuracy: 0.3080\n",
            "Epoch 13/100\n",
            "149/149 [==============================] - 319s 2s/step - loss: 1.5352 - accuracy: 0.4541 - val_loss: 1.6255 - val_accuracy: 0.4308\n",
            "Epoch 14/100\n",
            "149/149 [==============================] - 306s 2s/step - loss: 1.5024 - accuracy: 0.4610 - val_loss: 2.0653 - val_accuracy: 0.3170\n",
            "Epoch 15/100\n",
            "149/149 [==============================] - 301s 2s/step - loss: 1.4917 - accuracy: 0.4690 - val_loss: 1.8176 - val_accuracy: 0.3981\n",
            "Epoch 16/100\n",
            "149/149 [==============================] - 299s 2s/step - loss: 1.4837 - accuracy: 0.4791 - val_loss: 1.4910 - val_accuracy: 0.4725\n",
            "Epoch 17/100\n",
            "149/149 [==============================] - 305s 2s/step - loss: 1.4701 - accuracy: 0.4848 - val_loss: 1.8811 - val_accuracy: 0.3624\n",
            "Epoch 18/100\n",
            "149/149 [==============================] - 308s 2s/step - loss: 1.4588 - accuracy: 0.4841 - val_loss: 1.6013 - val_accuracy: 0.4308\n",
            "Epoch 19/100\n",
            "149/149 [==============================] - 305s 2s/step - loss: 1.4440 - accuracy: 0.4845 - val_loss: 1.6717 - val_accuracy: 0.4286\n",
            "Epoch 20/100\n",
            "149/149 [==============================] - 304s 2s/step - loss: 1.4269 - accuracy: 0.4925 - val_loss: 1.8825 - val_accuracy: 0.3951\n",
            "Epoch 21/100\n",
            "149/149 [==============================] - 303s 2s/step - loss: 1.4105 - accuracy: 0.4980 - val_loss: 1.5698 - val_accuracy: 0.4576\n",
            "Epoch 22/100\n",
            "149/149 [==============================] - 303s 2s/step - loss: 1.3946 - accuracy: 0.4976 - val_loss: 1.4367 - val_accuracy: 0.4829\n",
            "Epoch 23/100\n",
            "149/149 [==============================] - 302s 2s/step - loss: 1.3646 - accuracy: 0.5150 - val_loss: 1.6414 - val_accuracy: 0.4330\n",
            "Epoch 24/100\n",
            "149/149 [==============================] - 312s 2s/step - loss: 1.3539 - accuracy: 0.5213 - val_loss: 1.4563 - val_accuracy: 0.5060\n",
            "Epoch 25/100\n",
            "149/149 [==============================] - 305s 2s/step - loss: 1.3374 - accuracy: 0.5264 - val_loss: 1.6989 - val_accuracy: 0.4554\n",
            "Epoch 26/100\n",
            "149/149 [==============================] - 306s 2s/step - loss: 1.3085 - accuracy: 0.5434 - val_loss: 1.5387 - val_accuracy: 0.4561\n",
            "Epoch 27/100\n",
            "149/149 [==============================] - 307s 2s/step - loss: 1.3271 - accuracy: 0.5314 - val_loss: 1.4805 - val_accuracy: 0.4799\n",
            "Epoch 28/100\n",
            "149/149 [==============================] - 304s 2s/step - loss: 1.2906 - accuracy: 0.5493 - val_loss: 1.6134 - val_accuracy: 0.4263\n",
            "Epoch 29/100\n",
            "149/149 [==============================] - 304s 2s/step - loss: 1.2808 - accuracy: 0.5495 - val_loss: 1.6727 - val_accuracy: 0.4390\n",
            "Epoch 30/100\n",
            "149/149 [==============================] - 311s 2s/step - loss: 1.2657 - accuracy: 0.5476 - val_loss: 1.3994 - val_accuracy: 0.5126\n",
            "Epoch 31/100\n",
            "149/149 [==============================] - 306s 2s/step - loss: 1.2392 - accuracy: 0.5632 - val_loss: 1.6937 - val_accuracy: 0.4516\n",
            "Epoch 32/100\n",
            "149/149 [==============================] - 302s 2s/step - loss: 1.2408 - accuracy: 0.5703 - val_loss: 1.5217 - val_accuracy: 0.4821\n",
            "Epoch 33/100\n",
            "149/149 [==============================] - 306s 2s/step - loss: 1.2316 - accuracy: 0.5707 - val_loss: 1.4838 - val_accuracy: 0.4940\n",
            "Epoch 34/100\n",
            "149/149 [==============================] - 306s 2s/step - loss: 1.2064 - accuracy: 0.5808 - val_loss: 2.2688 - val_accuracy: 0.4003\n",
            "Epoch 35/100\n",
            "149/149 [==============================] - 304s 2s/step - loss: 1.1982 - accuracy: 0.5815 - val_loss: 1.8988 - val_accuracy: 0.3765\n",
            "Epoch 36/100\n",
            "149/149 [==============================] - 306s 2s/step - loss: 1.1811 - accuracy: 0.5861 - val_loss: 1.5617 - val_accuracy: 0.4807\n",
            "Epoch 37/100\n",
            "149/149 [==============================] - 306s 2s/step - loss: 1.1518 - accuracy: 0.5985 - val_loss: 1.4143 - val_accuracy: 0.5074\n",
            "Epoch 38/100\n",
            "149/149 [==============================] - 306s 2s/step - loss: 1.1556 - accuracy: 0.5947 - val_loss: 1.3698 - val_accuracy: 0.5379\n",
            "Epoch 39/100\n",
            "149/149 [==============================] - 298s 2s/step - loss: 1.1485 - accuracy: 0.6042 - val_loss: 1.3670 - val_accuracy: 0.5141\n",
            "Epoch 40/100\n",
            "149/149 [==============================] - 299s 2s/step - loss: 1.1227 - accuracy: 0.6037 - val_loss: 1.3816 - val_accuracy: 0.5327\n",
            "Epoch 41/100\n",
            "149/149 [==============================] - 304s 2s/step - loss: 1.1102 - accuracy: 0.6193 - val_loss: 1.3810 - val_accuracy: 0.5171\n",
            "Epoch 42/100\n",
            "149/149 [==============================] - 308s 2s/step - loss: 1.0981 - accuracy: 0.6193 - val_loss: 1.5205 - val_accuracy: 0.4911\n",
            "Epoch 43/100\n",
            "149/149 [==============================] - 303s 2s/step - loss: 1.1060 - accuracy: 0.6117 - val_loss: 1.2706 - val_accuracy: 0.5670\n",
            "Epoch 44/100\n",
            "149/149 [==============================] - 305s 2s/step - loss: 1.0919 - accuracy: 0.6206 - val_loss: 1.4126 - val_accuracy: 0.5320\n",
            "Epoch 45/100\n",
            "149/149 [==============================] - 305s 2s/step - loss: 1.0891 - accuracy: 0.6164 - val_loss: 1.6356 - val_accuracy: 0.4903\n",
            "Epoch 46/100\n",
            "149/149 [==============================] - 302s 2s/step - loss: 1.0694 - accuracy: 0.6260 - val_loss: 1.5891 - val_accuracy: 0.4435\n",
            "Epoch 47/100\n",
            "149/149 [==============================] - 304s 2s/step - loss: 1.0589 - accuracy: 0.6311 - val_loss: 1.7479 - val_accuracy: 0.4576\n",
            "Epoch 48/100\n",
            "149/149 [==============================] - 302s 2s/step - loss: 1.0671 - accuracy: 0.6176 - val_loss: 1.3550 - val_accuracy: 0.5558\n",
            "Epoch 49/100\n",
            "149/149 [==============================] - 304s 2s/step - loss: 1.0482 - accuracy: 0.6273 - val_loss: 1.5691 - val_accuracy: 0.4993\n",
            "Epoch 50/100\n",
            "149/149 [==============================] - 305s 2s/step - loss: 1.0523 - accuracy: 0.6330 - val_loss: 1.9501 - val_accuracy: 0.4368\n",
            "Epoch 51/100\n",
            "149/149 [==============================] - 312s 2s/step - loss: 1.0170 - accuracy: 0.6439 - val_loss: 1.3490 - val_accuracy: 0.5677\n",
            "Epoch 52/100\n",
            "149/149 [==============================] - 303s 2s/step - loss: 0.9941 - accuracy: 0.6557 - val_loss: 1.4617 - val_accuracy: 0.5454\n",
            "Epoch 53/100\n",
            "149/149 [==============================] - 301s 2s/step - loss: 0.9841 - accuracy: 0.6540 - val_loss: 1.3748 - val_accuracy: 0.5424\n",
            "Epoch 54/100\n",
            "149/149 [==============================] - 303s 2s/step - loss: 1.0182 - accuracy: 0.6374 - val_loss: 1.4141 - val_accuracy: 0.5365\n",
            "Epoch 55/100\n",
            "149/149 [==============================] - 315s 2s/step - loss: 0.9931 - accuracy: 0.6527 - val_loss: 1.6196 - val_accuracy: 0.4807\n",
            "Epoch 56/100\n",
            "149/149 [==============================] - 304s 2s/step - loss: 0.9864 - accuracy: 0.6531 - val_loss: 1.2976 - val_accuracy: 0.5744\n",
            "Epoch 57/100\n",
            "149/149 [==============================] - 302s 2s/step - loss: 0.9870 - accuracy: 0.6506 - val_loss: 1.9308 - val_accuracy: 0.4613\n",
            "Epoch 58/100\n",
            "149/149 [==============================] - 305s 2s/step - loss: 0.9856 - accuracy: 0.6634 - val_loss: 1.3058 - val_accuracy: 0.5640\n",
            "Epoch 59/100\n",
            "149/149 [==============================] - 301s 2s/step - loss: 0.9666 - accuracy: 0.6594 - val_loss: 1.3124 - val_accuracy: 0.5595\n",
            "Epoch 60/100\n",
            "149/149 [==============================] - 309s 2s/step - loss: 0.9406 - accuracy: 0.6679 - val_loss: 1.3088 - val_accuracy: 0.5670\n",
            "Epoch 61/100\n",
            "149/149 [==============================] - 303s 2s/step - loss: 0.9571 - accuracy: 0.6676 - val_loss: 1.5559 - val_accuracy: 0.4933\n",
            "Epoch 62/100\n",
            "149/149 [==============================] - 304s 2s/step - loss: 0.9412 - accuracy: 0.6691 - val_loss: 1.6884 - val_accuracy: 0.4524\n",
            "Epoch 63/100\n",
            "149/149 [==============================] - 302s 2s/step - loss: 0.9378 - accuracy: 0.6758 - val_loss: 1.3831 - val_accuracy: 0.5580\n",
            "Epoch 64/100\n",
            "149/149 [==============================] - 304s 2s/step - loss: 0.9440 - accuracy: 0.6702 - val_loss: 1.2615 - val_accuracy: 0.5588\n",
            "Epoch 65/100\n",
            "149/149 [==============================] - 302s 2s/step - loss: 0.9199 - accuracy: 0.6798 - val_loss: 1.2302 - val_accuracy: 0.5595\n",
            "Epoch 66/100\n",
            "149/149 [==============================] - 304s 2s/step - loss: 0.8891 - accuracy: 0.6904 - val_loss: 1.3613 - val_accuracy: 0.5573\n",
            "Epoch 67/100\n",
            "149/149 [==============================] - 313s 2s/step - loss: 0.8962 - accuracy: 0.6876 - val_loss: 1.8616 - val_accuracy: 0.4658\n",
            "Epoch 68/100\n",
            "149/149 [==============================] - 306s 2s/step - loss: 0.8979 - accuracy: 0.6918 - val_loss: 1.1637 - val_accuracy: 0.6265\n",
            "Epoch 69/100\n",
            "149/149 [==============================] - 309s 2s/step - loss: 0.8720 - accuracy: 0.7023 - val_loss: 1.1546 - val_accuracy: 0.6153\n",
            "Epoch 70/100\n",
            "149/149 [==============================] - 308s 2s/step - loss: 0.8771 - accuracy: 0.6878 - val_loss: 1.4992 - val_accuracy: 0.5461\n",
            "Epoch 71/100\n",
            "149/149 [==============================] - 310s 2s/step - loss: 0.8885 - accuracy: 0.6954 - val_loss: 1.4202 - val_accuracy: 0.5365\n",
            "Epoch 72/100\n",
            "149/149 [==============================] - 306s 2s/step - loss: 0.8756 - accuracy: 0.6891 - val_loss: 1.3884 - val_accuracy: 0.5848\n",
            "Epoch 73/100\n",
            "149/149 [==============================] - 309s 2s/step - loss: 0.8592 - accuracy: 0.6960 - val_loss: 1.2983 - val_accuracy: 0.5908\n",
            "Epoch 74/100\n",
            "149/149 [==============================] - 305s 2s/step - loss: 0.8506 - accuracy: 0.7055 - val_loss: 1.1369 - val_accuracy: 0.6421\n",
            "Epoch 75/100\n",
            "149/149 [==============================] - 308s 2s/step - loss: 0.8562 - accuracy: 0.7040 - val_loss: 1.2530 - val_accuracy: 0.6012\n",
            "Epoch 76/100\n",
            "149/149 [==============================] - 305s 2s/step - loss: 0.8529 - accuracy: 0.7051 - val_loss: 1.1763 - val_accuracy: 0.6124\n",
            "Epoch 77/100\n",
            "149/149 [==============================] - 305s 2s/step - loss: 0.8352 - accuracy: 0.7055 - val_loss: 1.3857 - val_accuracy: 0.5156\n",
            "Epoch 78/100\n",
            "149/149 [==============================] - 309s 2s/step - loss: 0.8508 - accuracy: 0.7017 - val_loss: 1.3911 - val_accuracy: 0.5618\n",
            "Epoch 79/100\n",
            "149/149 [==============================] - 306s 2s/step - loss: 0.8358 - accuracy: 0.7070 - val_loss: 1.6833 - val_accuracy: 0.5290\n",
            "Epoch 80/100\n",
            "149/149 [==============================] - 303s 2s/step - loss: 0.8096 - accuracy: 0.7194 - val_loss: 2.2473 - val_accuracy: 0.4814\n",
            "Epoch 81/100\n",
            "149/149 [==============================] - 310s 2s/step - loss: 0.8194 - accuracy: 0.7107 - val_loss: 0.9992 - val_accuracy: 0.6682\n",
            "Epoch 82/100\n",
            "149/149 [==============================] - 309s 2s/step - loss: 0.7940 - accuracy: 0.7271 - val_loss: 1.3006 - val_accuracy: 0.5848\n",
            "Epoch 83/100\n",
            "149/149 [==============================] - 303s 2s/step - loss: 0.8261 - accuracy: 0.7143 - val_loss: 2.5253 - val_accuracy: 0.4010\n",
            "Epoch 84/100\n",
            "149/149 [==============================] - 310s 2s/step - loss: 0.8144 - accuracy: 0.7065 - val_loss: 1.1752 - val_accuracy: 0.6287\n",
            "Epoch 85/100\n",
            "149/149 [==============================] - 311s 2s/step - loss: 0.7921 - accuracy: 0.7189 - val_loss: 1.2565 - val_accuracy: 0.5990\n",
            "Epoch 86/100\n",
            "149/149 [==============================] - 312s 2s/step - loss: 0.7844 - accuracy: 0.7215 - val_loss: 1.1196 - val_accuracy: 0.6272\n",
            "Epoch 87/100\n",
            "149/149 [==============================] - 307s 2s/step - loss: 0.7734 - accuracy: 0.7236 - val_loss: 1.3966 - val_accuracy: 0.5632\n",
            "Epoch 88/100\n",
            "149/149 [==============================] - 306s 2s/step - loss: 0.7611 - accuracy: 0.7330 - val_loss: 1.3673 - val_accuracy: 0.5766\n",
            "Epoch 89/100\n",
            "149/149 [==============================] - 312s 2s/step - loss: 0.7498 - accuracy: 0.7368 - val_loss: 1.4410 - val_accuracy: 0.5238\n",
            "Epoch 90/100\n",
            "149/149 [==============================] - 309s 2s/step - loss: 0.7870 - accuracy: 0.7252 - val_loss: 1.2156 - val_accuracy: 0.6124\n",
            "Epoch 91/100\n",
            "149/149 [==============================] - 309s 2s/step - loss: 0.7728 - accuracy: 0.7376 - val_loss: 1.7483 - val_accuracy: 0.4516\n",
            "Epoch 92/100\n",
            "149/149 [==============================] - 305s 2s/step - loss: 0.7650 - accuracy: 0.7337 - val_loss: 1.0534 - val_accuracy: 0.6429\n",
            "Epoch 93/100\n",
            "149/149 [==============================] - 306s 2s/step - loss: 0.7644 - accuracy: 0.7290 - val_loss: 1.2487 - val_accuracy: 0.6116\n",
            "Epoch 94/100\n",
            "149/149 [==============================] - 305s 2s/step - loss: 0.7389 - accuracy: 0.7379 - val_loss: 1.0808 - val_accuracy: 0.6451\n",
            "Epoch 95/100\n",
            "149/149 [==============================] - 309s 2s/step - loss: 0.7356 - accuracy: 0.7370 - val_loss: 1.2392 - val_accuracy: 0.6012\n",
            "Epoch 96/100\n",
            "149/149 [==============================] - 305s 2s/step - loss: 0.7557 - accuracy: 0.7313 - val_loss: 1.2894 - val_accuracy: 0.6004\n",
            "Epoch 97/100\n",
            "149/149 [==============================] - 306s 2s/step - loss: 0.7374 - accuracy: 0.7416 - val_loss: 1.1460 - val_accuracy: 0.6302\n",
            "Epoch 98/100\n",
            "149/149 [==============================] - 310s 2s/step - loss: 0.7240 - accuracy: 0.7448 - val_loss: 1.4656 - val_accuracy: 0.5774\n",
            "Epoch 99/100\n",
            "149/149 [==============================] - 308s 2s/step - loss: 0.7090 - accuracy: 0.7515 - val_loss: 1.6015 - val_accuracy: 0.5595\n",
            "Epoch 100/100\n",
            "149/149 [==============================] - 309s 2s/step - loss: 0.7272 - accuracy: 0.7412 - val_loss: 1.5790 - val_accuracy: 0.6034\n"
          ]
        }
      ],
      "source": [
        "history = model.fit(\n",
        "    train_generator,\n",
        "    epochs=EPOCHS,\n",
        "    steps_per_epoch=149,\n",
        "    validation_data=val_generator,\n",
        "    validation_steps=42\n",
        ")"
      ]
    },
    {
      "cell_type": "markdown",
      "id": "eb33796d",
      "metadata": {
        "id": "eb33796d"
      },
      "source": [
        "Построим графики функции ошибки и точности для тренировочной и валидационной выборок"
      ]
    },
    {
      "cell_type": "code",
      "execution_count": 15,
      "id": "f8478f30",
      "metadata": {
        "colab": {
          "base_uri": "https://localhost:8080/",
          "height": 265
        },
        "id": "f8478f30",
        "outputId": "185d8e09-da77-43cf-ba90-34862f98b934"
      },
      "outputs": [
        {
          "output_type": "display_data",
          "data": {
            "text/plain": [
              "<Figure size 432x288 with 1 Axes>"
            ],
            "image/png": "[encoded data removed]"
          },
          "metadata": {
            "needs_background": "light"
          }
        }
      ],
      "source": [
        "history_frame = pd.DataFrame(history.history)\n",
        "history_frame.loc[:, ['loss', 'val_loss']].plot();"
      ]
    },
    {
      "cell_type": "code",
      "execution_count": 12,
      "id": "edeb5726",
      "metadata": {
        "colab": {
          "base_uri": "https://localhost:8080/",
          "height": 265
        },
        "id": "edeb5726",
        "outputId": "1dea9950-e6f5-4b30-94a0-125655de8815"
      },
      "outputs": [
        {
          "output_type": "display_data",
          "data": {
            "text/plain": [
              "<Figure size 432x288 with 1 Axes>"
            ],
            "image/png": "[encoded data removed]"
          },
          "metadata": {
            "needs_background": "light"
          }
        }
      ],
      "source": [
        "history_frame.loc[:, ['accuracy', 'val_accuracy']].plot();"
      ]
    },
    {
      "cell_type": "markdown",
      "id": "98204bc0",
      "metadata": {
        "id": "98204bc0"
      },
      "source": [
        "Делаем предсказание на тестовом датасете, находим точность предсказаний и строим confusion matrix"
      ]
    },
    {
      "cell_type": "code",
      "execution_count": 13,
      "id": "4d614532",
      "metadata": {
        "colab": {
          "base_uri": "https://localhost:8080/"
        },
        "id": "4d614532",
        "outputId": "61f4284a-b5cc-4a94-87ae-cf5de7b54edb"
      },
      "outputs": [
        {
          "output_type": "stream",
          "name": "stdout",
          "text": [
            "22/22 [==============================] - 152s 7s/step\n",
            "Confusion Matrix\n",
            "[[ 18   3   1   0   1   0   8   5   0]\n",
            " [  1  50   5   0   1   0  16   2   0]\n",
            " [  2   0  96   0   0   0  10   1   1]\n",
            " [  3   2   6  15   0   1  52   3   3]\n",
            " [  1   4   2   0  11   0  19   1   0]\n",
            " [  1   3   2   2   0   9  11   1   4]\n",
            " [  2   4  12   1   2   0 131   6   1]\n",
            " [  3   4   5   0   0   0  34  72   0]\n",
            " [  2   0   6   0   0   0  14   4   7]]\n"
          ]
        }
      ],
      "source": [
        "nb_samples = 687 # number of test images\n",
        "Y_pred = model.predict(test_generator, nb_samples // BATCH_SIZE+1)\n",
        "y_pred = np.argmax(Y_pred, axis=1)\n",
        "\n",
        "print('Confusion Matrix')\n",
        "print(confusion_matrix(test_generator.classes, y_pred))\n",
        "# x is true class, y is predicted class-- middle diagonal represents the accurate predictions"
      ]
    },
    {
      "cell_type": "code",
      "execution_count": 14,
      "id": "1690a3cc",
      "metadata": {
        "colab": {
          "base_uri": "https://localhost:8080/"
        },
        "id": "1690a3cc",
        "outputId": "0f1d1b69-0908-46a0-c1e1-0d57a656a306"
      },
      "outputs": [
        {
          "output_type": "stream",
          "name": "stdout",
          "text": [
            "Classification Report\n",
            "              precision    recall  f1-score   support\n",
            "\n",
            "    Agaricus       0.55      0.50      0.52        36\n",
            "     Amanita       0.71      0.67      0.69        75\n",
            "     Boletus       0.71      0.87      0.78       110\n",
            " Cortinarius       0.83      0.18      0.29        85\n",
            "    Entoloma       0.73      0.29      0.42        38\n",
            "   Hygrocybe       0.90      0.27      0.42        33\n",
            "   Lactarius       0.44      0.82      0.58       159\n",
            "     Russula       0.76      0.61      0.68       118\n",
            "     Suillus       0.44      0.21      0.29        33\n",
            "\n",
            "    accuracy                           0.60       687\n",
            "   macro avg       0.68      0.49      0.52       687\n",
            "weighted avg       0.66      0.60      0.57       687\n",
            "\n"
          ]
        }
      ],
      "source": [
        "print('Classification Report')\n",
        "target_names = list(train_generator.class_indices.keys())\n",
        "print(classification_report(test_generator.classes, y_pred, target_names=target_names))"
      ]
    }
  ],
  "metadata": {
    "kernelspec": {
      "display_name": "Python 3 (ipykernel)",
      "language": "python",
      "name": "python3"
    },
    "language_info": {
      "codemirror_mode": {
        "name": "ipython",
        "version": 3
      },
      "file_extension": ".py",
      "mimetype": "text/x-python",
      "name": "python",
      "nbconvert_exporter": "python",
      "pygments_lexer": "ipython3",
      "version": "3.9.13"
    },
    "colab": {
      "provenance": []
    }
  },
  "nbformat": 4,
  "nbformat_minor": 5
}